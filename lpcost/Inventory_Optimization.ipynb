{
  "cells": [
    {
      "cell_type": "code",
      "execution_count": 4,
      "metadata": {
        "colab": {
          "base_uri": "https://localhost:8080/"
        },
        "id": "QW2SHgLx8LwR",
        "outputId": "50def1fa-c397-4647-f697-79810b06c505"
      },
      "outputs": [],
      "source": [
        "import pandas as pd\n",
        "import numpy as np\n",
        "import pulp"
      ]
    },
    {
      "cell_type": "code",
      "execution_count": 5,
      "metadata": {
        "id": "Dv31b0-T9Tiu"
      },
      "outputs": [],
      "source": [
        "# Load data from CSV files\n",
        "demand_data = pd.read_csv('./2_weekly_demand.csv')\n",
        "sales_data = pd.read_csv('./3_weekly_sales.csv')\n",
        "transport_cost_data = pd.read_csv('./4_transport_cost.csv')\n",
        "initial_inventory_data = pd.read_csv('./5_initial_inventory.csv')"
      ]
    },
    {
      "cell_type": "code",
      "execution_count": 6,
      "metadata": {
        "colab": {
          "base_uri": "https://localhost:8080/"
        },
        "id": "6wjaje6u9jzG",
        "outputId": "1e21bba1-ad63-40cc-9bb9-805e47a612ea"
      },
      "outputs": [],
      "source": [
        "# Convert lead time from days to weeks and round up\n",
        "transport_cost_data = pd.merge(demand_data[['Supplier', 'Supplier Country']], transport_cost_data, on='Supplier Country')\n",
        "transport_cost_data = transport_cost_data.drop_duplicates(subset=['Supplier', 'Mode'], keep='first')\n",
        "transport_cost_data['Lead Time (Weeks)'] = np.ceil(transport_cost_data['Lead Time'] / 7)\n",
        "\n",
        "demand_data.drop(columns=[\n",
        "    'Lead Time (Weeks)', 'Mean Weekly Demand', 'Total_Sales', 'Safety Stock (SS)','SS (round unit up)',\n",
        "    'SS (CBM)', 'SS (KG)','Reorder Point (RP=s)', 'RP (round unit up)'\n",
        "], inplace=True)\n",
        "\n",
        "# Use CBM/Orderlines from 2. to calculate sales in 3.\n",
        "sales_data = pd.merge(demand_data[['Product', 'CBM/Orderlines']], sales_data, on='Product')\n",
        "sales_data['CBM Sales'] = sales_data['CBM/Orderlines'] * sales_data['Weekly Sales']"
      ]
    },
    {
      "cell_type": "code",
      "execution_count": 7,
      "metadata": {
        "id": "r57WCBmJ-phB"
      },
      "outputs": [],
      "source": [
        "# Initialize the problem\n",
        "prob = pulp.LpProblem('Inventory_Optimization', pulp.LpMinimize)\n",
        "\n",
        "products = demand_data['Product'].unique()\n",
        "suppliers = demand_data['Supplier'].unique()\n",
        "transportation_modes = transport_cost_data['Mode'].unique()\n",
        "weeks = range(1, 79)\n",
        "\n",
        "ignored_products = np.array(['B-037', 'B-038', 'B-041', 'B-043'])\n",
        "products = np.setdiff1d(products, ignored_products)"
      ]
    },
    {
      "cell_type": "code",
      "execution_count": 8,
      "metadata": {
        "id": "b6df9b5COjY8"
      },
      "outputs": [],
      "source": [
        "# convert to cbm cost"
      ]
    },
    {
      "cell_type": "code",
      "execution_count": 9,
      "metadata": {
        "id": "fRF0AVuumf8A"
      },
      "outputs": [],
      "source": [
        "def convert_to_cbm_cost(cost, mode, product):\n",
        "    kg_orderlines = demand_data.loc[demand_data['Product'] == product, 'Kg/Orderlines'].values[0]\n",
        "    cbm_orderlines = demand_data.loc[demand_data['Product'] == product, 'CBM/Orderlines'].values[0]\n",
        "\n",
        "    if mode == 'FCL20' or mode == 'FCL40':\n",
        "        return (cost / kg_orderlines) * cbm_orderlines\n",
        "    if mode == 'Air':\n",
        "        return cost * cbm_orderlines\n",
        "    return cost"
      ]
    },
    {
      "cell_type": "code",
      "execution_count": 10,
      "metadata": {
        "id": "17zJ6Pv-Onzd"
      },
      "outputs": [],
      "source": [
        "pivoted_transport_df = transport_cost_data.copy()\n",
        "\n",
        "pivoted_transport_df['id'] = pivoted_transport_df.groupby('Supplier Country').cumcount()\n",
        "\n",
        "# pivoted_transport_df\n",
        "pivoted_transport_df = pivoted_transport_df.pivot_table(index='Supplier Country', columns='id', values='Cost').reset_index()\n",
        "pivoted_transport_df = pivoted_transport_df.iloc[:, :5]\n",
        "\n",
        "pivoted_transport_df.columns = ['Supplier Country', 'FCL20 Cost', 'FCL40 Cost', 'LCL Cost', 'Air Cost']\n",
        "\n",
        "pivoted_transport_df\n",
        "modes  = ['FCL20', 'FCL40', 'LCL', 'Air']\n",
        "\n",
        "merged_demand_data = pd.merge(demand_data, pivoted_transport_df, on='Supplier Country')\n",
        "\n",
        "for mode in modes:\n",
        "    column_name = f'{mode} Cost'\n",
        "    if column_name in merged_demand_data.columns:\n",
        "        # Use pandas apply method with a lambda function\n",
        "        merged_demand_data[column_name] = merged_demand_data.apply(\n",
        "            lambda row: convert_to_cbm_cost(row[column_name], mode, row['Product']),\n",
        "            axis=1\n",
        "        )\n",
        "\n",
        "demand_data = merged_demand_data.copy()"
      ]
    },
    {
      "cell_type": "code",
      "execution_count": 11,
      "metadata": {
        "id": "rAQ6vJtl-wKS"
      },
      "outputs": [],
      "source": [
        "# Parameters\n",
        "p_max = 1.46\n",
        "m_constant = 1e6\n",
        "# Container Parameters\n",
        "capacity_fcl20 = 32\n",
        "capacity_fcl40 = 66\n",
        "utilization_fcl20 = 0.65\n",
        "utilization_fcl40 = 0.65\n",
        "# Cost Parameters\n",
        "handling_costs = 10\n",
        "receiving_cost = 2.5\n",
        "storing_cost = 4\n",
        "picking_cost = 2.5"
      ]
    },
    {
      "cell_type": "code",
      "execution_count": 12,
      "metadata": {
        "id": "hpxTf7JS_iB2"
      },
      "outputs": [],
      "source": [
        "transport_cost_fcl20 = transport_cost_data.set_index(['Supplier', 'Mode'])['Cost'].unstack().loc[:, 'FCL20']\n",
        "transport_cost_fcl40 = transport_cost_data.set_index(['Supplier', 'Mode'])['Cost'].unstack().loc[:, 'FCL40']\n",
        "transport_cost_lcl = transport_cost_data.set_index(['Supplier', 'Mode'])['Cost'].unstack().loc[:, 'LCL']\n",
        "transport_cost_air = transport_cost_data.set_index(['Supplier', 'Mode'])['Cost'].unstack().loc[:, 'Air']"
      ]
    },
    {
      "cell_type": "code",
      "execution_count": 13,
      "metadata": {
        "id": "AHQyBzFW_c9_"
      },
      "outputs": [],
      "source": [
        "# Decision Variables\n",
        "X_FCL20 = pulp.LpVariable.dicts('X_FCL20', [(s, t) for s in suppliers for t in weeks], lowBound=0, cat='Integer')\n",
        "X_FCL40 = pulp.LpVariable.dicts('X_FCL40', [(s, t) for s in suppliers for t in weeks], lowBound=0, cat='Integer')\n",
        "\n",
        "# Volume Variables\n",
        "V_FCL20 = pulp.LpVariable.dicts('V_FCL20', [(p, s, t) for p in products for s in suppliers for t in weeks], lowBound=0, cat='Continuous')\n",
        "V_FCL40 = pulp.LpVariable.dicts('V_FCL40', [(p, s, t) for p in products for s in suppliers for t in weeks], lowBound=0, cat='Continuous')\n",
        "V_LCL = pulp.LpVariable.dicts('V_LCL', [(p, s, t) for p in products for s in suppliers for t in weeks], lowBound=0, cat='Continuous')\n",
        "V_AIR = pulp.LpVariable.dicts('V_AIR', [(p, s, t) for p in products for s in suppliers for t in weeks], lowBound=0, cat='Continuous')\n",
        "V_TOTAL = pulp.LpVariable.dicts('V_TOTAL', [(p, s, t) for p in products for s in suppliers for t in weeks], lowBound=0, cat='Continuous')\n",
        "\n",
        "W_AIR = pulp.LpVariable.dicts('W_AIR', [(p, s, t) for p in products for s in suppliers for t in weeks], lowBound=0, cat='Continuous')\n",
        "\n",
        "# Pallet Variables\n",
        "PL_FCL20 = pulp.LpVariable.dicts('PL_FCL20', [(p, s, t) for p in products for s in suppliers for t in weeks], lowBound=0, cat='Integer')\n",
        "PL_FCL40 = pulp.LpVariable.dicts('PL_FCL40', [(p, s, t) for p in products for s in suppliers for t in weeks], lowBound=0, cat='Integer')\n",
        "PL_LCL = pulp.LpVariable.dicts('PL_LCL', [(p, s, t) for p in products for s in suppliers for t in weeks], lowBound=0, cat='Integer')\n",
        "\n",
        "WEEKT_PRODUCT_ORDER_PLACED = pulp.LpVariable.dicts('WEEKT_PRODUCT_ORDER_PLACED', [(p, t) for p in products for t in weeks], cat='Binary')\n",
        "WEEKT_REORDER_REACHED = pulp.LpVariable.dicts('WEEKT_REORDER_REACHED', [(p, t) for p in products for t in weeks], cat='Binary')\n",
        "WEEKT_ORDER_NOT_ARRIVED = pulp.LpVariable.dicts('WEEKT_ORDER_NOT_ARRIVED', [(p, t) for p in products for t in weeks], cat='Binary')\n",
        "WEEKT_MODEM_ORDERED = pulp.LpVariable.dicts('WEEKT_MODEM_ORDERED', [(p, t, m) for p in products for t in weeks for m in transportation_modes], cat='Binary')\n",
        "WEEKT_SUPPLIER_ORDER_PLACED = pulp.LpVariable.dicts('WEEKT_SUPPLIER_ORDER_PLACED', [(s, t) for s in suppliers for t in weeks], cat='Binary')\n",
        "AUXILIARY_VARIABLE = pulp.LpVariable.dicts('AUXILIARY_VARIABLE', [(p, s, t) for p in products for s in suppliers for t in weeks], cat='Binary')\n",
        "INVENTORY = pulp.LpVariable.dicts('Inventory', [(p, t) for p in products for t in weeks], lowBound=0, cat='Continuous')\n"
      ]
    },
    {
      "cell_type": "code",
      "execution_count": 14,
      "metadata": {
        "id": "gV0-89Rj_oy9"
      },
      "outputs": [],
      "source": [
        "# Objective function: Minimize the total cost\n",
        "prob += pulp.lpSum([\n",
        "    demand_data.loc[demand_data['Product'] == p, 'FCL20 Cost'].values[0] * X_FCL20[(s, t)] +\n",
        "    demand_data.loc[demand_data['Product'] == p, 'FCL40 Cost'].values[0] * X_FCL40[(s, t)] +\n",
        "    demand_data.loc[demand_data['Product'] == p, 'LCL Cost'].values[0] * V_LCL[(p, s, t)] +\n",
        "    demand_data.loc[demand_data['Product'] == p, 'Air Cost'].values[0] * W_AIR[(p, s, t)] +\n",
        "    handling_costs * (X_FCL20[(s, t)] + X_FCL40[(s, t)]) +\n",
        "    receiving_cost * (PL_FCL20[(p, s, t)] + PL_FCL40[(p, s, t)] + PL_LCL[(p, s, t)]) +\n",
        "    storing_cost * INVENTORY[(p, t)] / p_max\n",
        "    for p in products for s in suppliers for t in weeks\n",
        "])"
      ]
    },
    {
      "cell_type": "code",
      "execution_count": 15,
      "metadata": {
        "id": "kzMdcSXY_rkE"
      },
      "outputs": [],
      "source": [
        "# Constraints"
      ]
    },
    {
      "cell_type": "code",
      "execution_count": 16,
      "metadata": {
        "id": "qjMpjmDf_ugA"
      },
      "outputs": [],
      "source": [
        "# a. Pallet capacity constraints\n",
        "for p in products:\n",
        "    for s in suppliers:\n",
        "        for t in weeks:\n",
        "            prob += V_LCL[(p, s, t)] <= PL_LCL[(p, s, t)] * p_max\n",
        "            prob += V_FCL20[(p, s, t)] <= PL_FCL20[(p, s, t)] * p_max\n",
        "            prob += V_FCL40[(p, s, t)] <= PL_FCL40[(p, s, t)] * p_max"
      ]
    },
    {
      "cell_type": "code",
      "execution_count": 17,
      "metadata": {
        "id": "V6kGAiFY_0zo"
      },
      "outputs": [],
      "source": [
        "# b. Container capacity constraints\n",
        "for s in suppliers:\n",
        "    for t in weeks:\n",
        "        prob += pulp.lpSum([V_FCL20[(p, s, t)] for p in products]) <= (utilization_fcl20 * capacity_fcl20) * X_FCL20[(s, t)]\n",
        "        prob += pulp.lpSum([V_FCL40[(p, s, t)] for p in products]) <= (utilization_fcl40 * capacity_fcl40) * X_FCL40[(s, t)]"
      ]
    },
    {
      "cell_type": "code",
      "execution_count": 18,
      "metadata": {
        "id": "8MdRjFgbAJb4"
      },
      "outputs": [],
      "source": [
        "# c. Inventory balance constraints; and\n",
        "# d. Initial inventory constraints\n",
        "\n",
        "def get_or_else_zero(p, s, t, mode, constraint: dict):\n",
        "    value = t - transport_cost_data.loc[(transport_cost_data['Supplier'] == s) & (transport_cost_data['Mode'] == mode), 'Lead Time (Weeks)'].values[0]\n",
        "    if value < 1 or value > 78:\n",
        "        return 0\n",
        "    else:\n",
        "        return constraint[(p, s, value)]\n",
        "\n",
        "for p in products:\n",
        "    for t in weeks:\n",
        "        if t == 1:\n",
        "            prob += INVENTORY[(p, t)] >= sales_data.loc[sales_data['Product'] == p, 'CBM Sales'].values[0]\n",
        "        else:\n",
        "            prob += INVENTORY[(p, t)] == (\n",
        "                INVENTORY[(p, t-1)] +\n",
        "                pulp.lpSum([get_or_else_zero(p, s, t, 'FCL20', V_FCL20) +\n",
        "                            get_or_else_zero(p, s, t, 'FCL40', V_FCL40) +\n",
        "                            get_or_else_zero(p, s, t, 'LCL', V_LCL) +\n",
        "                            get_or_else_zero(p, s, t, 'Air', V_AIR)\n",
        "                            for s in suppliers]) -\n",
        "                pulp.lpSum([sales_data.loc[(sales_data['Product'] == p) & (sales_data['Week No.'] == t-1), 'CBM Sales'].values[0]])\n",
        "            )"
      ]
    },
    {
      "cell_type": "code",
      "execution_count": 19,
      "metadata": {
        "id": "P2azZofVASNu"
      },
      "outputs": [],
      "source": [
        "# e. Reorder point constraints\n",
        "for p in products:\n",
        "    for t in weeks:\n",
        "        prob += INVENTORY[(p, t)] + m_constant * WEEKT_REORDER_REACHED[(p, t)] >= demand_data.loc[demand_data['Product'] == p, 'RP (CBM)'].values[0]\n"
      ]
    },
    {
      "cell_type": "code",
      "execution_count": 20,
      "metadata": {
        "id": "g5Wn0qI2G3Fi"
      },
      "outputs": [],
      "source": [
        "# f. Handling recent orders\n",
        "for p in products:\n",
        "    for t in weeks:\n",
        "        prob += m_constant * WEEKT_ORDER_NOT_ARRIVED[p, t] >= pulp.lpSum([\n",
        "            WEEKT_MODEM_ORDERED[(p, t_prime, m)]\n",
        "            for m in transportation_modes for t_prime in range(max(1, t - int(transport_cost_data.loc[transport_cost_data['Mode'] == m, 'Lead Time (Weeks)'].values[0])), t-1)\n",
        "        ])"
      ]
    },
    {
      "cell_type": "code",
      "execution_count": 21,
      "metadata": {
        "id": "k2rnWU69Mgon"
      },
      "outputs": [],
      "source": [
        "# g. Ordering constraint\n",
        "for p in products:\n",
        "    for t in weeks:\n",
        "        prob += WEEKT_PRODUCT_ORDER_PLACED[(p, t)] >= WEEKT_REORDER_REACHED[(p, t)] - WEEKT_ORDER_NOT_ARRIVED[(p, t)]\n",
        "        prob += WEEKT_PRODUCT_ORDER_PLACED[(p, t)] <= WEEKT_REORDER_REACHED[(p, t)]\n",
        "        prob += WEEKT_PRODUCT_ORDER_PLACED[(p, t)] <= 1 - WEEKT_ORDER_NOT_ARRIVED[(p, t)]"
      ]
    },
    {
      "cell_type": "code",
      "execution_count": 22,
      "metadata": {
        "id": "KlpEDycHOhOs"
      },
      "outputs": [],
      "source": [
        "# h. Mode ordering constraints\n",
        "for p in products:\n",
        "    for t in weeks:\n",
        "        prob += m_constant * WEEKT_MODEM_ORDERED[(p, t, 'FCL20')] >= pulp.lpSum([V_FCL20[(p, s, t)] for s in suppliers])\n",
        "        prob += m_constant * WEEKT_MODEM_ORDERED[(p, t, 'FCL40')] >= pulp.lpSum([V_FCL40[(p, s, t)] for s in suppliers])\n",
        "        prob += m_constant * WEEKT_MODEM_ORDERED[(p, t, 'LCL')] >= pulp.lpSum([V_LCL[(p, s, t)] for s in suppliers])\n",
        "        prob += m_constant * WEEKT_MODEM_ORDERED[(p, t, 'Air')] >= pulp.lpSum([V_AIR[(p, s, t)] for s in suppliers])"
      ]
    },
    {
      "cell_type": "code",
      "execution_count": 23,
      "metadata": {
        "id": "_lnjmnnaBkg6"
      },
      "outputs": [],
      "source": [
        "# i. Order volume constraints\n",
        "for p in products:\n",
        "    for s in suppliers:\n",
        "        for t in weeks:\n",
        "            prob += WEEKT_SUPPLIER_ORDER_PLACED[(s, t)] >= WEEKT_PRODUCT_ORDER_PLACED[(p, t)]\n",
        "            prob += V_TOTAL[(p, s, t)] == demand_data.loc[demand_data['Product'] == p, 'S (CBM)'].values[0] * WEEKT_PRODUCT_ORDER_PLACED[(p, t)] - AUXILIARY_VARIABLE[(p, s, t)]\n",
        "            prob += AUXILIARY_VARIABLE[(p, s, t)] <= demand_data.loc[demand_data['Product'] == p, 'S (CBM)'].values[0] * WEEKT_PRODUCT_ORDER_PLACED[(p, t)]\n",
        "            prob += AUXILIARY_VARIABLE[(p, s, t)] >= INVENTORY[(p, t)] - demand_data.loc[demand_data['Product'] == p, 'S (CBM)'].values[0] * (1 - WEEKT_PRODUCT_ORDER_PLACED[(p, t)])\n",
        "            prob += AUXILIARY_VARIABLE[(p, s, t)] <= INVENTORY[(p, t)]\n",
        "            prob += AUXILIARY_VARIABLE[(p, s, t)] >= 0"
      ]
    },
    {
      "cell_type": "code",
      "execution_count": 24,
      "metadata": {
        "id": "qykiWn4-Cjst"
      },
      "outputs": [],
      "source": [
        "# # g. Additional reordering constraints: if an order is placed, ensure other products are reordered if needed\n",
        "# for p in products:\n",
        "#     for s in suppliers:\n",
        "#         for t in weeks:\n",
        "#             prob += V_TOTAL[(p, s, t)] >= (demand_data.loc[demand_data['Product'] == p, 'RP (CBM)'].values[0] - INVENTORY[(p, t)]) - m_constant * (1 - SUPPLIER_ORDER_PLACED[(s, t)])\n",
        "\n",
        "#             if t+1 <= max(weeks):\n",
        "#                 prob += V_TOTAL[(p, s, t)] >= (demand_data.loc[demand_data['Product'] == p, 'RP (CBM)'].values[0] - INVENTORY[(p, t+1)]) - m_constant * (1 - SUPPLIER_ORDER_PLACED[(s, t)])\n",
        "#             if t+2 <= max(weeks):\n",
        "#                 prob += V_TOTAL[(p, s, t)] >= (demand_data.loc[demand_data['Product'] == p, 'RP (CBM)'].values[0] - INVENTORY[(p, t+2)]) - m_constant * (1 - SUPPLIER_ORDER_PLACED[(s, t)])\n",
        "#             if t+3 <= max(weeks):\n",
        "#                 prob += V_TOTAL[(p, s, t)] >= (demand_data.loc[demand_data['Product'] == p, 'RP (CBM)'].values[0] - INVENTORY[(p, t+3)]) - m_constant * (1 - SUPPLIER_ORDER_PLACED[(s, t)])\n"
      ]
    },
    {
      "cell_type": "code",
      "execution_count": 25,
      "metadata": {
        "id": "JO84URL_C9Gv"
      },
      "outputs": [],
      "source": [
        "# # h. No duplicate orders within lead time\n",
        "# for s in suppliers:\n",
        "#     for t in weeks:\n",
        "#         lead_time_fcl20 = transport_cost_data.loc[(transport_cost_data['Supplier'] == s) & (transport_cost_data['Mode'] == 'FCL20'), 'Lead Time (Weeks)'].values[0]\n",
        "#         lead_time_lcl = transport_cost_data.loc[(transport_cost_data['Supplier'] == s) & (transport_cost_data['Mode'] == 'LCL'), 'Lead Time (Weeks)'].values[0]\n",
        "#         lead_time_air = transport_cost_data.loc[(transport_cost_data['Supplier'] == s) & (transport_cost_data['Mode'] == 'Air'), 'Lead Time (Weeks)'].values[0]\n",
        "\n",
        "#         if t + lead_time_fcl20 <= max(weeks):\n",
        "#             prob += pulp.lpSum([SUPPLIER_ORDER_PLACED[(s, t_prime)] for s in suppliers for t_prime in range(t, int(t + lead_time_fcl20))]) <= 1\n",
        "\n",
        "#         if t + lead_time_lcl <= max(weeks):\n",
        "#             prob += pulp.lpSum([SUPPLIER_ORDER_PLACED[(s, t_prime)] for s in suppliers for t_prime in range(t, int(t + lead_time_lcl))]) <= 1\n",
        "\n",
        "#         if t + lead_time_air <= max(weeks):\n",
        "#             prob += pulp.lpSum([SUPPLIER_ORDER_PLACED[(s, t_prime)] for s in suppliers for t_prime in range(t, int(t + lead_time_air))]) <= 1\n"
      ]
    },
    {
      "cell_type": "code",
      "execution_count": 26,
      "metadata": {
        "id": "ls_V2eYtD-0N"
      },
      "outputs": [],
      "source": [
        "# j. Order volume consistency constraint\n",
        "for p in products:\n",
        "    for s in suppliers:\n",
        "        for t in weeks:\n",
        "            prob += V_TOTAL[(p, s, t)] == pulp.lpSum([V_FCL20[(p, s, t)] + V_FCL40[(p, s, t)] + V_LCL[(p, s, t)] + W_AIR[(p, s, t)]])\n"
      ]
    },
    {
      "cell_type": "code",
      "execution_count": 27,
      "metadata": {
        "id": "Xl4k2dXnEF3w"
      },
      "outputs": [
        {
          "ename": "",
          "evalue": "",
          "output_type": "error",
          "traceback": [
            "\u001b[1;31mThe Kernel crashed while executing code in the current cell or a previous cell. \n",
            "\u001b[1;31mPlease review the code in the cell(s) to identify a possible cause of the failure. \n",
            "\u001b[1;31mClick <a href='https://aka.ms/vscodeJupyterKernelCrash'>here</a> for more info. \n",
            "\u001b[1;31mView Jupyter <a href='command:jupyter.viewOutput'>log</a> for further details."
          ]
        }
      ],
      "source": [
        "# k. Ensure non-negativity for all continuous decision variables\n",
        "for p in products:\n",
        "    for s in suppliers:\n",
        "        for t in weeks:\n",
        "            prob += X_FCL20[(s, t)] >= 0\n",
        "            prob += X_FCL40[(s, t)] >= 0\n",
        "            prob += V_FCL20[(p, s, t)] >= 0\n",
        "            prob += V_FCL40[(p, s, t)] >= 0\n",
        "            prob += V_LCL[(p, s, t)] >= 0\n",
        "            prob += V_AIR[(p, s, t)] >= 0\n",
        "            prob += V_TOTAL[(p, s, t)] >= 0\n",
        "            prob += W_AIR[(p, s, t)] >= 0\n",
        "            prob += INVENTORY[(p, t)] >= 0"
      ]
    },
    {
      "cell_type": "code",
      "execution_count": 28,
      "metadata": {
        "id": "spr9mxe8EKM5"
      },
      "outputs": [],
      "source": [
        "# Solve the problem\n",
        "prob.solve()"
      ]
    },
    {
      "cell_type": "code",
      "execution_count": null,
      "metadata": {
        "id": "q_K9K62XEPQ0"
      },
      "outputs": [],
      "source": [
        "status = pulp.LpStatus[prob.status]\n",
        "status"
      ]
    },
    {
      "cell_type": "code",
      "execution_count": null,
      "metadata": {
        "id": "OtFhlPnvEVzS"
      },
      "outputs": [],
      "source": [
        "results = {v.name: v.varValue for v in prob.variables() if v.varValue > 0}\n",
        "results"
      ]
    },
    {
      "cell_type": "code",
      "execution_count": null,
      "metadata": {
        "id": "WyIhjXxdEeWk"
      },
      "outputs": [],
      "source": [
        "total_cost = pulp.value(prob.objective)\n",
        "total_cost"
      ]
    },
    {
      "cell_type": "code",
      "execution_count": null,
      "metadata": {
        "id": "XESmjXqOEhA4"
      },
      "outputs": [],
      "source": []
    }
  ],
  "metadata": {
    "colab": {
      "provenance": []
    },
    "kernelspec": {
      "display_name": "Python 3",
      "name": "python3"
    },
    "language_info": {
      "codemirror_mode": {
        "name": "ipython",
        "version": 3
      },
      "file_extension": ".py",
      "mimetype": "text/x-python",
      "name": "python",
      "nbconvert_exporter": "python",
      "pygments_lexer": "ipython3",
      "version": "3.10.4"
    }
  },
  "nbformat": 4,
  "nbformat_minor": 0
}
